{
 "cells": [
  {
   "cell_type": "markdown",
   "id": "d33de9a7",
   "metadata": {},
   "source": [
    "## Empfohlene Lernressourcen:\n",
    "(mein Lernweg):\n",
    "- Youtube: Basic Tutorial z.B. https://youtube.com/playlist?list=PLIhvC56v63ILPDA2DQBv0IKzqsWTZxCkp\n",
    "- Google und Stackoverflow für spezifische Probleme\n",
    "- ChatGPT\n",
    "- -> Learning by Doing mit eigenen spanennden Projekten"
   ]
  },
  {
   "cell_type": "markdown",
   "id": "af3bf282",
   "metadata": {},
   "source": [
    "## Mehr über meine Projekte\n",
    "- Website <a href=\"https://luca4.com\">luca4.com</a> mit Artikeln über verschiedenste Programmierprojekte sowie andere Themen\n",
    "- Github Repository (Link auf Website) mit Projekten wie AI-Website zum selbst hosten"
   ]
  },
  {
   "cell_type": "code",
   "execution_count": 2,
   "id": "49872517",
   "metadata": {},
   "outputs": [
    {
     "name": "stdout",
     "output_type": "stream",
     "text": [
      "Vielen Dank für eure Aufmerksamkeit!\n"
     ]
    }
   ],
   "source": [
    "import base64\n",
    "\n",
    "encoded_str = \"VmllbGVuIERhbmsgZsO8ciBldXJlIEF1Zm1lcmtzYW1rZWl0IQ==\"\n",
    "decoded_bytes = base64.b64decode(encoded_str)\n",
    "decoded_str = decoded_bytes.decode('utf-8')\n",
    "print(decoded_str)"
   ]
  },
  {
   "cell_type": "markdown",
   "id": "cee5b1a4",
   "metadata": {},
   "source": [
    "<br>\n",
    "<br>\n",
    "<br>\n",
    "<br>\n",
    "<br>\n",
    "<br>\n",
    "<br>\n",
    "<br>\n",
    "<br>\n",
    "<br>\n",
    "<br>\n",
    "<br>\n",
    "<br>\n",
    "<br>\n",
    "<br>\n",
    "<br>\n",
    "<br>\n",
    "<br>\n",
    "<br>\n",
    "<br>\n",
    "<br>\n",
    "<br>\n",
    "<br>\n",
    "<br>\n",
    "<br>\n"
   ]
  },
  {
   "cell_type": "markdown",
   "id": "a516b489",
   "metadata": {},
   "source": [
    "## Quellen\n",
    "---\n",
    "**Textquellen**\n",
    "- https://docs.python.org/3/faq/general.html#what-is-python\n",
    "- https://www.python.org/about/success/\n",
    "---\n",
    "**Bildquellen**\n",
    "- Python logo: https://www.python.org/static/img/python-logo-large.c36dccadd999.png\n",
    "- Guido van Rossum: https://upload.wikimedia.org/wikipedia/commons/c/c6/Guido_van_Rossum.jpg\n",
    "- NASA logo: https://upload.wikimedia.org/wikipedia/commons/e/e5/NASA_logo.svg\n",
    "- Google \"G\" logo: https://upload.wikimedia.org/wikipedia/commons/c/c1/Google_%22G%22_logo.svg\n",
    "- Netflix logo: https://upload.wikimedia.org/wikipedia/commons/0/0c/Netflix_2015_N_logo.svg"
   ]
  }
 ],
 "metadata": {
  "kernelspec": {
   "display_name": "Python 3",
   "language": "python",
   "name": "python3"
  },
  "language_info": {
   "codemirror_mode": {
    "name": "ipython",
    "version": 3
   },
   "file_extension": ".py",
   "mimetype": "text/x-python",
   "name": "python",
   "nbconvert_exporter": "python",
   "pygments_lexer": "ipython3",
   "version": "3.11.1"
  }
 },
 "nbformat": 4,
 "nbformat_minor": 5
}
