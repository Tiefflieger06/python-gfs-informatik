{
 "cells": [
  {
   "cell_type": "markdown",
   "id": "18b839c3",
   "metadata": {},
   "source": [
    "# Git Versionskontrolle verstehen\n",
    "\n",
    "Git ist ein verteiltes Versionskontrollsystem, das Entwicklern hilft, Änderungen in ihrem Code über die Zeit zu verfolgen. Es bietet mehrere wichtige Vorteile:\n",
    "\n",
    "* **Versionsverlauf**: Verfolge alle Änderungen am Code und kehre bei Bedarf zu früheren Versionen zurück\n",
    "* **Zusammenarbeit**: Mehrere Entwickler können am selben Projekt arbeiten, ohne Konflikte zu verursachen\n",
    "* **Verzweigung**: Erstelle separate Branches für die Entwicklung neuer Funktionen, ohne den Hauptcode zu beeinflussen\n",
    "* **Sicherung**: Dient als Sicherungssystem beim Pushen in Remote-Repositories\n",
    "\n",
    "Lass uns einige grundlegende Git-Befehle unten erkunden."
   ]
  },
  {
   "cell_type": "markdown",
   "id": "093b0e6a",
   "metadata": {},
   "source": [
    "# Demonstration grundlegender Git-Befehle\n",
    "\n",
    "Dieses Notebook demonstriert grundlegende Git-Befehle für die Versionskontrolle."
   ]
  },
  {
   "cell_type": "markdown",
   "id": "454e401c",
   "metadata": {},
   "source": [
    "## 1. Git-Repository initialisieren\n",
    "Zunächst erstellen wir ein neues Git-Repository im aktuellen Verzeichnis"
   ]
  },
  {
   "cell_type": "code",
   "execution_count": null,
   "id": "6af796ee",
   "metadata": {},
   "outputs": [],
   "source": [
    "!git init"
   ]
  },
  {
   "cell_type": "markdown",
   "id": "5a676541",
   "metadata": {},
   "source": [
    "## 2. Repository-Status prüfen\n",
    "Schauen wir nach, ob es Änderungen zum Verfolgen gibt"
   ]
  },
  {
   "cell_type": "code",
   "execution_count": null,
   "id": "d6c9f03e",
   "metadata": {},
   "outputs": [],
   "source": [
    "!git status"
   ]
  },
  {
   "cell_type": "markdown",
   "id": "d7cccecb",
   "metadata": {},
   "source": [
    "## 3. Änderungen stagen und committen\n",
    "Füge Dateien zum Staging-Bereich hinzu und erstelle einen Commit"
   ]
  },
  {
   "cell_type": "code",
   "execution_count": null,
   "id": "a40d3563",
   "metadata": {},
   "outputs": [],
   "source": [
    "!git add .\n",
    "!git commit -m \"Initial commit\""
   ]
  },
  {
   "cell_type": "markdown",
   "id": "0b003839",
   "metadata": {},
   "source": [
    "## 4. Commit-Verlauf anzeigen\n",
    "Überprüfe das Protokoll der Commits"
   ]
  },
  {
   "cell_type": "code",
   "execution_count": null,
   "id": "a0436db8",
   "metadata": {},
   "outputs": [],
   "source": [
    "!git log --oneline"
   ]
  },
  {
   "cell_type": "markdown",
   "id": "4747ae96",
   "metadata": {},
   "source": [
    "## 5. Änderungen wiederherstellen\n",
    "Git restore hilft dir, Änderungen in deinem Arbeitsverzeichnis oder Staging-Bereich rückgängig zu machen:\n",
    "\n",
    "* Änderungen im Arbeitsverzeichnis verwerfen\n",
    "* Dateien aus dem Staging-Bereich entfernen\n",
    "* Dateien zu einem bestimmten Commit wiederherstellen"
   ]
  },
  {
   "cell_type": "code",
   "execution_count": null,
   "id": "94f56f78",
   "metadata": {},
   "outputs": [],
   "source": [
    "# Änderungen im Arbeitsverzeichnis verwerfen\n",
    "!git restore file.txt\n",
    "\n",
    "# Datei aus dem Staging-Bereich entfernen\n",
    "!git restore --staged file.txt\n",
    "\n",
    "# Datei zu einem bestimmten Commit wiederherstellen\n",
    "!git restore --source=HEAD~1 file.txt"
   ]
  },
  {
   "cell_type": "markdown",
   "id": "bb7cffea",
   "metadata": {},
   "source": [
    "## 6. Arbeiten mit Remote-Repositories\n",
    "\n",
    "GitHub.com ist eine beliebte Plattform für das Hosten von Git-Repositories. Hier ist, wie man mit Remote-Repositories arbeitet:\n",
    "\n",
    "* Remote-Repository hinzufügen\n",
    "* Änderungen zu GitHub pushen\n",
    "* Änderungen von GitHub pullen\n",
    "* Repositories klonen"
   ]
  },
  {
   "cell_type": "markdown",
   "id": "84536102",
   "metadata": {},
   "source": [
    "### Remote-Repository hinzufügen\n",
    "Verbinde dein lokales Repository mit GitHub"
   ]
  },
  {
   "cell_type": "code",
   "execution_count": null,
   "id": "009947ab",
   "metadata": {},
   "outputs": [],
   "source": [
    "!git remote add origin https://github.com/username/repository.git\n",
    "!git remote -v"
   ]
  },
  {
   "cell_type": "markdown",
   "id": "c17794d8",
   "metadata": {},
   "source": [
    "### Änderungen zu GitHub pushen\n",
    "Lade deine lokalen Commits in das Remote-Repository hoch"
   ]
  },
  {
   "cell_type": "code",
   "execution_count": null,
   "id": "97122a25",
   "metadata": {},
   "outputs": [],
   "source": [
    "!git push -u origin main"
   ]
  },
  {
   "cell_type": "markdown",
   "id": "67b9c785",
   "metadata": {},
   "source": [
    "### Änderungen von GitHub pullen\n",
    "Lade Änderungen vom Remote-Repository herunter und führe sie zusammen"
   ]
  },
  {
   "cell_type": "code",
   "execution_count": null,
   "id": "b3d644be",
   "metadata": {},
   "outputs": [],
   "source": [
    "!git pull origin main"
   ]
  },
  {
   "cell_type": "markdown",
   "id": "0b5225d9",
   "metadata": {},
   "source": [
    "### Repository klonen\n",
    "Lade eine vollständige Kopie eines Remote-Repositories herunter"
   ]
  },
  {
   "cell_type": "code",
   "execution_count": null,
   "id": "4d455905",
   "metadata": {},
   "outputs": [],
   "source": [
    "!git clone https://github.com/username/repository.git"
   ]
  }
 ],
 "metadata": {
  "language_info": {
   "name": "python"
  }
 },
 "nbformat": 4,
 "nbformat_minor": 5
}
