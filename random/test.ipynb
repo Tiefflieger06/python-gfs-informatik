{
 "cells": [
  {
   "cell_type": "markdown",
   "metadata": {},
   "source": [
    "# Python Basics"
   ]
  },
  {
   "cell_type": "markdown",
   "metadata": {},
   "source": [
    "## Testtest"
   ]
  },
  {
   "cell_type": "markdown",
   "metadata": {},
   "source": [
    "Hallo Testtest"
   ]
  },
  {
   "cell_type": "code",
   "execution_count": 8,
   "metadata": {},
   "outputs": [],
   "source": [
    "var1 = 5\n",
    "var2 = \"Hello World\"\n",
    "var3 = 3.14"
   ]
  },
  {
   "cell_type": "code",
   "execution_count": 9,
   "metadata": {},
   "outputs": [
    {
     "name": "stdout",
     "output_type": "stream",
     "text": [
      "Hello World\n"
     ]
    }
   ],
   "source": [
    "print(\"Hello World\")"
   ]
  },
  {
   "cell_type": "code",
   "execution_count": 10,
   "metadata": {},
   "outputs": [
    {
     "name": "stdout",
     "output_type": "stream",
     "text": [
      "5\n",
      "Hello World\n"
     ]
    }
   ],
   "source": [
    "print(var1)\n",
    "print(var2)"
   ]
  },
  {
   "cell_type": "markdown",
   "metadata": {
    "vscode": {
     "languageId": "markdown"
    }
   },
   "source": [
    "# Introduction to Python\n",
    "\n",
    "Python is a high-level, interpreted programming language famous for its easy-to-read syntax and versatility. It's used in many domains, from web development to data science and automation.\n",
    "\n",
    "## Key Features\n",
    "\n",
    "- **Simple Syntax**: Python emphasizes readability, making it easier to learn and write.\n",
    "- **Interpreted Language**: Code executes line by line, which simplifies debugging.\n",
    "- **Dynamic Typing**: Variable types do not need to be declared; Python determines types during runtime.\n",
    "- **Rich Ecosystem**: A vast collection of libraries and frameworks supports various applications.\n",
    "- **Community Support**: A large community offers extensive help and numerous open-source contributions.\n",
    "\n",
    "## Basic Concepts\n",
    "\n",
    "- **Variables**: Containers for storing data values. For example, `var1 = 5`, `var2 = 'Hello World'`, `var3 = 3.14`.\n",
    "- **Data Types**: Includes integers, floats, strings, lists, dictionaries, and more.\n",
    "- **Control Structures**: Includes `if` statements, loops (`for`, `while`), and more for logic control.\n",
    "- **Functions**: Reusable blocks of code defined with the `def` keyword.\n",
    "- **Modules and Packages**: Allow you to organize code into separate files and directories for better manageability.\n",
    "\n",
    "This brief introduction covers the fundamentals and highlights why Python is a great language for both beginners and experienced programmers."
   ]
  }
 ],
 "metadata": {
  "kernelspec": {
   "display_name": "Python 3",
   "language": "python",
   "name": "python3"
  },
  "language_info": {
   "codemirror_mode": {
    "name": "ipython",
    "version": 3
   },
   "file_extension": ".py",
   "mimetype": "text/x-python",
   "name": "python",
   "nbconvert_exporter": "python",
   "pygments_lexer": "ipython3",
   "version": "3.11.1"
  }
 },
 "nbformat": 4,
 "nbformat_minor": 2
}
