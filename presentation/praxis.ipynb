{
 "cells": [
  {
   "cell_type": "markdown",
   "id": "de6870d6",
   "metadata": {
    "slideshow": {
     "slide_type": "slide"
    }
   },
   "source": [
    "# Praktische Codebeispiele"
   ]
  },
  {
   "cell_type": "markdown",
   "id": "eea13cee",
   "metadata": {
    "slideshow": {
     "slide_type": "slide"
    }
   },
   "source": [
    "## Der Python-Syntax"
   ]
  },
  {
   "cell_type": "markdown",
   "id": "59f4f35a",
   "metadata": {},
   "source": [
    "- Zeilenumbruch statt Strichpunkt\n",
    "- Einrücken statt geschweiften Klammern\n",
    "- Dynamische Variablentypen\n",
    "- Code ähnelt natürlicher Sprache\n",
    "- Fokus auf gute Lesbarkeit"
   ]
  },
  {
   "cell_type": "code",
   "execution_count": 3,
   "id": "3c931ffa",
   "metadata": {},
   "outputs": [
    {
     "name": "stdout",
     "output_type": "stream",
     "text": [
      "Hello World\n",
      "Das Ergebnis ist 42\n"
     ]
    }
   ],
   "source": [
    "print(\"Hello World\")\n",
    "\n",
    "# Kommentar\n",
    "\n",
    "zahl = 2 + 4 * 10\n",
    "\n",
    "# Wird nur ausgeführt, wenn Punkt vor Strich beachtet wird\n",
    "if zahl == 42:\n",
    "    print(f\"Das Ergebnis ist {zahl}\")"
   ]
  },
  {
   "cell_type": "markdown",
   "id": "71a151e2",
   "metadata": {},
   "source": [
    "## Integrierte Funktionen"
   ]
  },
  {
   "cell_type": "code",
   "execution_count": 9,
   "id": "2fa02d67",
   "metadata": {},
   "outputs": [
    {
     "name": "stdout",
     "output_type": "stream",
     "text": [
      "Dies ist eine Textausgabe\n",
      "Sie haben den Text 'HAllo Welt' eingegeben.\n",
      "Der Datentyp der Eingabe ist: str\n",
      "Die Länge des Textes ist: 10\n",
      "Der Text in Großbuchstaben: HALLO WELT\n"
     ]
    }
   ],
   "source": [
    "# Textausgabe\n",
    "print(\"Dies ist eine Textausgabe\")\n",
    "\n",
    "# Eingabeaufforderung\n",
    "text = input(\"Bitte geben Sie einen Text ein: \")\n",
    "print(f\"Sie haben den Text '{text}' eingegeben.\")\n",
    "\n",
    "# Datentyp ermitteln\n",
    "Typ = type(text)\n",
    "print(f\"Der Datentyp der Eingabe ist: {Typ.__name__}\")\n",
    "\n",
    "# Länge ermitteln\n",
    "laenge = len(text)\n",
    "print(f\"Die Länge des Textes ist: {laenge}\")\n",
    "\n",
    "# Konvertierung in Großbuchstaben\n",
    "# .upper() ist hier ein Beispiel für eine objektorientierte Methode\n",
    "text_gross = text.upper()\n",
    "print(f\"Der Text in Großbuchstaben: {text_gross}\")"
   ]
  },
  {
   "cell_type": "markdown",
   "id": "e27851be",
   "metadata": {},
   "source": [
    "## Variablen und Datentypen"
   ]
  },
  {
   "cell_type": "markdown",
   "id": "a10a65bc",
   "metadata": {},
   "source": [
    "### Rechenoperatoren"
   ]
  },
  {
   "cell_type": "markdown",
   "id": "932417e6",
   "metadata": {},
   "source": [
    "- \\+ und - für Addition und Subtraktion, * und / für Multiplikation und Division\n",
    "- ** für Potenzen\n",
    "- % für Modulo (\"Rest\")\n",
    "- // für Teilen ohne Rest (Abrunden des Ergebnisses)"
   ]
  },
  {
   "cell_type": "code",
   "execution_count": null,
   "id": "33fae21f",
   "metadata": {},
   "outputs": [
    {
     "name": "stdout",
     "output_type": "stream",
     "text": [
      "a: 3, b: 1, c: 20, d: 3.0, e: 8, f: 1, g: 2\n"
     ]
    }
   ],
   "source": [
    "a = 1 + 2\n",
    "b = 3 - 2\n",
    "c = 4 * 5\n",
    "d = 6 / 2\n",
    "e = 2 ** 3\n",
    "f = 7 % 3\n",
    "g = 8 // 3\n",
    "\n",
    "print(f\"a: {a}, b: {b}, c: {c}, d: {d}, e: {e}, f: {f}, g: {g}\")"
   ]
  },
  {
   "cell_type": "markdown",
   "id": "04fd5c6f",
   "metadata": {},
   "source": [
    "### Vergleichsoperatoren\n",
    "- `and, or, xor` -> logische Operatoren UND, ODER, EXKLUSIV ODER\n",
    "- `==` -> \"ist gleich\"\n",
    "- `!=` -> \"ist ungleich\"\n",
    "- `>=, <=` -> \"Größer/Kleiner gleich\"\n",
    "- `>, <` -> \"echt größer/kleiner\"\n",
    "- `not` -> Invertierung\n",
    "\n",
    "**Alle Vergleiche mit diesen Operatoren sind immer `True` oder `False`**"
   ]
  },
  {
   "cell_type": "code",
   "execution_count": 11,
   "id": "c8995340",
   "metadata": {},
   "outputs": [
    {
     "name": "stdout",
     "output_type": "stream",
     "text": [
      "3 ist größer oder gleich 2 und 2 ist kleiner als 3\n",
      "Das ist wahr\n"
     ]
    }
   ],
   "source": [
    "if 3 >= 2 and 2 < 3:\n",
    "    print(\"3 ist größer oder gleich 2 und 2 ist kleiner als 3\")\n",
    "\n",
    "if not False:\n",
    "    print(\"Das ist wahr\")"
   ]
  },
  {
   "cell_type": "markdown",
   "id": "1002812d",
   "metadata": {},
   "source": [
    "### Datentypen"
   ]
  },
  {
   "cell_type": "markdown",
   "id": "520612bc",
   "metadata": {},
   "source": [
    "**Gängigste Datentypen für Variablen:**\n",
    "- String: z.B. `\"Hallo, Welt!\"`\n",
    "- Integer: Ganzzahlige Zahl\n",
    "- Float: Reelle Zahl\n",
    "- Bool: `True` oder `False`\n",
    "- List: Liste mehrerer einzelner Daten\n",
    "- Dictionary: Schlüssel-Wert-Paare aus je 2 Datentypen"
   ]
  },
  {
   "cell_type": "code",
   "execution_count": 14,
   "id": "05be84ae",
   "metadata": {},
   "outputs": [
    {
     "data": {
      "text/plain": [
       "{'name': 'Max', 'alter': 25, 'stadt': 'Berlin'}"
      ]
     },
     "execution_count": 14,
     "metadata": {},
     "output_type": "execute_result"
    }
   ],
   "source": [
    "\"Das ist ein String\"\n",
    "'Das ist auch ein String'\n",
    "\n",
    "25\n",
    "5\n",
    "-3\n",
    "\n",
    "25.52\n",
    "-3.14\n",
    "0.0\n",
    "\n",
    "True\n",
    "False\n",
    "\n",
    "[\"Das ist eine Liste\", 1, 2.5, True]\n",
    "\n",
    "{\"name\": \"Max\", \"alter\": 25, \"stadt\": \"Berlin\"}"
   ]
  },
  {
   "cell_type": "markdown",
   "id": "597efb9e",
   "metadata": {},
   "source": [
    "## Schleifen und Bedingungen\n",
    "- ähnlich wie bei Java\n",
    "- keine geschweiften Klammern erforderlich, stattdessen mit Tab/Leerzeichen einrücken"
   ]
  },
  {
   "cell_type": "code",
   "execution_count": 15,
   "id": "4b6f49c5",
   "metadata": {},
   "outputs": [
    {
     "name": "stdout",
     "output_type": "stream",
     "text": [
      "Die Zahl ist 42\n"
     ]
    }
   ],
   "source": [
    "if zahl == 42:\n",
    "    print(\"Die Zahl ist 42\")\n",
    "\n",
    "elif zahl < 42:\n",
    "    print(\"Die Zahl ist kleiner als 42\")\n",
    "    \n",
    "    if zahl < 0:\n",
    "        print(\"Die Zahl ist negativ\")\n",
    "    \n",
    "else:\n",
    "    print(\"Die Zahl ist größer als 42\")"
   ]
  },
  {
   "cell_type": "code",
   "execution_count": 19,
   "id": "3b069abe",
   "metadata": {},
   "outputs": [
    {
     "name": "stdout",
     "output_type": "stream",
     "text": [
      "0 1 2 3 4 5 6 7 8 9 "
     ]
    }
   ],
   "source": [
    "i = 0\n",
    "while i < 10:\n",
    "    print(i, end=\" \")\n",
    "    i += 1 # i = i + 1"
   ]
  },
  {
   "cell_type": "code",
   "execution_count": 20,
   "id": "7db91584",
   "metadata": {},
   "outputs": [
    {
     "name": "stdout",
     "output_type": "stream",
     "text": [
      "Apfel, Banane, Orange, "
     ]
    }
   ],
   "source": [
    "for i in [\"Apfel\", \"Banane\", \"Orange\"]:\n",
    "    print(i, end=\", \")"
   ]
  }
 ],
 "metadata": {
  "kernelspec": {
   "display_name": "Python 3",
   "language": "python",
   "name": "python3"
  },
  "language_info": {
   "codemirror_mode": {
    "name": "ipython",
    "version": 3
   },
   "file_extension": ".py",
   "mimetype": "text/x-python",
   "name": "python",
   "nbconvert_exporter": "python",
   "pygments_lexer": "ipython3",
   "version": "3.11.1"
  }
 },
 "nbformat": 4,
 "nbformat_minor": 5
}
