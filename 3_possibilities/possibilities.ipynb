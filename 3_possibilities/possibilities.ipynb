{
 "cells": [
  {
   "cell_type": "markdown",
   "id": "0d49a487",
   "metadata": {},
   "source": [
    "# Möglichkeiten der Programmierung"
   ]
  },
  {
   "cell_type": "markdown",
   "id": "8bdebf36",
   "metadata": {},
   "source": [
    "- weltweit viel genutzt\n",
    "- nicht nur für private Anwendungen, auch als Backend großer Firmen\n",
    "- **eigene mittelgroße bis große Projekte:**"
   ]
  },
  {
   "cell_type": "markdown",
   "id": "f1dad682",
   "metadata": {},
   "source": [
    "## Ebenenconverter\n",
    "- Parametergleichung -> Koordinatengleichung\n",
    "- eher simples Programm verglichen mit den anderen"
   ]
  },
  {
   "cell_type": "code",
   "execution_count": 1,
   "id": "04b67207",
   "metadata": {},
   "outputs": [],
   "source": [
    "!code C:\\xyz\\Python\\ebenenconverter"
   ]
  },
  {
   "cell_type": "markdown",
   "id": "71044a22",
   "metadata": {},
   "source": [
    "## Discord Bot\n",
    "- *(auf Discord demonstrieren)*"
   ]
  },
  {
   "cell_type": "code",
   "execution_count": 2,
   "id": "d5bb0172",
   "metadata": {},
   "outputs": [],
   "source": [
    "!code C:\\xyz\\Python\\discord-stellarbot"
   ]
  },
  {
   "cell_type": "markdown",
   "id": "a3847b6f",
   "metadata": {},
   "source": [
    "## AI-Website\n",
    "- Frontend HTML/CSS/JS, Backend und Webserver 100% Python\n",
    "- Custom Login-System\n",
    "- AI auch mit Py, aber nicht selbst programmiert\n",
    "- https://ai-image.luca4.com"
   ]
  },
  {
   "cell_type": "code",
   "execution_count": 3,
   "id": "c32f7568",
   "metadata": {},
   "outputs": [],
   "source": [
    "!code C:\\xyz\\Python\\git\\ComfyUI-API"
   ]
  },
  {
   "cell_type": "markdown",
   "id": "f36490cd",
   "metadata": {},
   "source": [
    "## Videogenerator\n",
    "- Videoerstellung mit AI\n",
    "- Vollautomatisiert inkl. Upload\n",
    "- Ausführliche Erklärung und Beispiele: https://luca4.com/ai-videogenerator"
   ]
  },
  {
   "cell_type": "code",
   "execution_count": 4,
   "id": "588e3e5f",
   "metadata": {},
   "outputs": [],
   "source": [
    "!code C:\\xyz\\Python\\git\\ai-slideshow"
   ]
  }
 ],
 "metadata": {
  "kernelspec": {
   "display_name": "Python 3",
   "language": "python",
   "name": "python3"
  },
  "language_info": {
   "codemirror_mode": {
    "name": "ipython",
    "version": 3
   },
   "file_extension": ".py",
   "mimetype": "text/x-python",
   "name": "python",
   "nbconvert_exporter": "python",
   "pygments_lexer": "ipython3",
   "version": "3.11.1"
  }
 },
 "nbformat": 4,
 "nbformat_minor": 5
}
